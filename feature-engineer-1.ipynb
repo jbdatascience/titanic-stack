{
 "cells": [
  {
   "cell_type": "code",
   "execution_count": null,
   "metadata": {},
   "outputs": [],
   "source": [
    "import pandas as pd\n",
    "import numpy as np\n",
    "import re\n",
    "import matplotlib.pyplot as plt\n",
    "%matplotlib inline"
   ]
  },
  {
   "cell_type": "code",
   "execution_count": null,
   "metadata": {
    "collapsed": true
   },
   "outputs": [],
   "source": [
    "test_path = 'data/test.csv'\n",
    "train_path = 'data/train.csv'"
   ]
  },
  {
   "cell_type": "markdown",
   "metadata": {},
   "source": [
    "## Explore\n",
    "\n",
    "Read and inspect data.  Develop strategy for transforming features."
   ]
  },
  {
   "cell_type": "code",
   "execution_count": null,
   "metadata": {
    "collapsed": true
   },
   "outputs": [],
   "source": [
    "test = (pd.read_csv(test_path)\n",
    "          .rename(columns=str.lower))\n",
    "train = (pd.read_csv(train_path)\n",
    "           .rename(columns=str.lower))"
   ]
  },
  {
   "cell_type": "code",
   "execution_count": null,
   "metadata": {},
   "outputs": [],
   "source": [
    "train.sample(10)"
   ]
  },
  {
   "cell_type": "markdown",
   "metadata": {},
   "source": [
    "### Training Set Missing Values"
   ]
  },
  {
   "cell_type": "code",
   "execution_count": null,
   "metadata": {},
   "outputs": [],
   "source": [
    "train.isnull().sum() / train.shape[0]"
   ]
  },
  {
   "cell_type": "markdown",
   "metadata": {},
   "source": [
    "### Test Set Missing Values"
   ]
  },
  {
   "cell_type": "code",
   "execution_count": null,
   "metadata": {},
   "outputs": [],
   "source": [
    "test.isnull().sum() / test.shape[0]"
   ]
  },
  {
   "cell_type": "markdown",
   "metadata": {},
   "source": [
    "## Basic Feature Transformations\n",
    "\n",
    "### Title"
   ]
  },
  {
   "cell_type": "code",
   "execution_count": null,
   "metadata": {},
   "outputs": [],
   "source": [
    "def get_title(name):\n",
    "    ''' convert name to title group\n",
    "    '''\n",
    "    def title_map(title):\n",
    "        ''' map less frequent titles to groups\n",
    "        '''\n",
    "        nobs = ['Countess.', 'Don.', 'Jonkheer.', 'Lady.', 'Sir.']\n",
    "        miss = ['Mlle.', 'Mme.', 'Ms.']\n",
    "        mltr = ['Capt.', 'Col.', 'Major.']\n",
    "        if title in nobs:\n",
    "            return 'Nobility'\n",
    "        if title in miss:\n",
    "            return 'Miss.'\n",
    "        if title in mltr:\n",
    "            return 'Military'\n",
    "        return title\n",
    "    try:\n",
    "        return title_map(re.findall('\\w+[.]', name)[0])\n",
    "    except:\n",
    "        return np.NaN"
   ]
  },
  {
   "cell_type": "code",
   "execution_count": null,
   "metadata": {},
   "outputs": [],
   "source": [
    "train['title'] = train.name.apply(get_title)"
   ]
  },
  {
   "cell_type": "code",
   "execution_count": null,
   "metadata": {},
   "outputs": [],
   "source": [
    "gb = train.groupby('title')\n",
    "(gb['survived'].sum() / gb.size()).plot(kind='bar')"
   ]
  },
  {
   "cell_type": "markdown",
   "metadata": {},
   "source": [
    "## Family Size"
   ]
  },
  {
   "cell_type": "code",
   "execution_count": null,
   "metadata": {
    "collapsed": true
   },
   "outputs": [],
   "source": [
    "def family_size(df):\n",
    "    ''' return number of family members accompanying\n",
    "        passenger\n",
    "    '''\n",
    "    return df.sibsp + df.parch + 1\n",
    "\n",
    "\n",
    "train['fam_size'] = family_size(train)"
   ]
  },
  {
   "cell_type": "code",
   "execution_count": null,
   "metadata": {},
   "outputs": [],
   "source": [
    "gb = train.groupby(train.fam_size > 1)\n",
    "(gb['survived'].sum() / gb.size()).plot(kind='bar')"
   ]
  },
  {
   "cell_type": "markdown",
   "metadata": {},
   "source": [
    "### Tangent - General Impute Function"
   ]
  },
  {
   "cell_type": "code",
   "execution_count": null,
   "metadata": {
    "collapsed": true
   },
   "outputs": [],
   "source": [
    "def impute_by_title(df, column):\n",
    "    ''' calculate the median for numeric value 'column' after grouping by title\n",
    "        return impute function to replace np.nan with\n",
    "        the corresponding title's median\n",
    "    '''\n",
    "    title_median = df.groupby('title')[column].median(skipna=True)\n",
    "    def median_impute(row):\n",
    "        if pd.isnull(row[column]):\n",
    "            return title_median[row.title]\n",
    "        return row[column]\n",
    "    return median_impute"
   ]
  },
  {
   "cell_type": "markdown",
   "metadata": {},
   "source": [
    "### Fare Category"
   ]
  },
  {
   "cell_type": "code",
   "execution_count": null,
   "metadata": {},
   "outputs": [],
   "source": [
    "def fare_category(df):\n",
    "    ''' cut fare category into three slices\n",
    "        test set contains NA values, hence the impute step\n",
    "    '''\n",
    "    fare_wo_na = df.apply(impute_by_title(df, 'fare'), axis=1)\n",
    "    return pd.qcut(fare_wo_na, 4, labels=range(4))\n",
    "\n",
    "train['fare_cat'] = pd.qcut(train.fare, 4, labels=range(4))"
   ]
  },
  {
   "cell_type": "code",
   "execution_count": null,
   "metadata": {},
   "outputs": [],
   "source": [
    "gb = train.groupby('fare_cat')\n",
    "(gb['survived'].sum() / gb.size()).plot(kind='bar')"
   ]
  },
  {
   "cell_type": "markdown",
   "metadata": {},
   "source": [
    "### Age Median Impute"
   ]
  },
  {
   "cell_type": "code",
   "execution_count": null,
   "metadata": {},
   "outputs": [],
   "source": [
    "train.age.plot(kind='hist')"
   ]
  },
  {
   "cell_type": "code",
   "execution_count": null,
   "metadata": {},
   "outputs": [],
   "source": [
    "train['age_imputed'] = train.apply(impute_by_title(train, 'age'), axis=1)"
   ]
  },
  {
   "cell_type": "code",
   "execution_count": null,
   "metadata": {},
   "outputs": [],
   "source": [
    "train.age_imputed.plot(kind='hist')"
   ]
  },
  {
   "cell_type": "markdown",
   "metadata": {},
   "source": [
    "## Wrap All Transformations"
   ]
  },
  {
   "cell_type": "code",
   "execution_count": null,
   "metadata": {},
   "outputs": [],
   "source": [
    "def get_title(name):\n",
    "    ''' convert name to title group\n",
    "    '''\n",
    "    def title_map(title):\n",
    "        ''' map less frequent titles to groups\n",
    "        '''\n",
    "        nobs = ['Countess.', 'Don.', 'Dona.', 'Jonkheer.', 'Lady.', 'Sir.', 'Dr.']\n",
    "        miss = ['Mlle.', 'Mme.', 'Ms.']\n",
    "        mltr = ['Capt.', 'Col.', 'Major.']\n",
    "        if title in nobs:\n",
    "            return 'prestige'\n",
    "        if title in miss:\n",
    "            return 'miss'\n",
    "        if title in mltr:\n",
    "            return 'military'\n",
    "        return title.lower().strip('.')\n",
    "    try:\n",
    "        return title_map(re.findall('\\w+[.]', name)[0])\n",
    "    except:\n",
    "        return np.NaN\n",
    "\n",
    "def family_size(df):\n",
    "    ''' return number of family members accompanying\n",
    "        passenger\n",
    "    '''\n",
    "    return df.sibsp + df.parch + 1\n",
    "\n",
    "\n",
    "def impute_by_title(df, column):\n",
    "    ''' calculate the median for numeric valued column\n",
    "        after grouping by title\n",
    "        return impute function to replace np.nan with\n",
    "        the corresponding title's median\n",
    "    '''\n",
    "    title_median = df.groupby('title')[column].median(skipna=True)\n",
    "    def median_impute(row):\n",
    "        if pd.isnull(row[column]):\n",
    "            return title_median[row.title]\n",
    "        return row[column]\n",
    "    return median_impute\n",
    "\n",
    "\n",
    "def fare_category(df):\n",
    "    ''' cut fare category into three slices\n",
    "        test set contains NA values, hence the impute step\n",
    "    '''\n",
    "    fare_wo_na = df.apply(impute_by_title(df, 'fare'), axis=1)\n",
    "    return pd.qcut(fare_wo_na, 4, labels=range(4))\n",
    "\n",
    "\n",
    "def prep_features(df):\n",
    "    ''' prep all features\n",
    "    '''\n",
    "    df = (df.rename(columns=str.lower)\n",
    "            .assign(title=lambda df: df.name.apply(get_title))\n",
    "            .assign(\n",
    "                fam_size=lambda df: family_size(df),\n",
    "                fare_cat=lambda df: fare_category(df),\n",
    "                age_imputed= lambda df:(\n",
    "                    df.apply(impute_by_title(df, 'age'), axis=1)\n",
    "                ))\n",
    "            .drop(['name', 'cabin', 'ticket', 'fare', 'sibsp', 'parch', 'age'], axis=1))\n",
    "    return (df.drop(['sex', 'title', 'embarked'], axis=1)\n",
    "              .join(pd.get_dummies(df[['sex', 'title', 'embarked']])))"
   ]
  },
  {
   "cell_type": "markdown",
   "metadata": {},
   "source": [
    "## Test Transformations"
   ]
  },
  {
   "cell_type": "code",
   "execution_count": null,
   "metadata": {},
   "outputs": [],
   "source": [
    "train = pd.read_csv(train_path).pipe(prep_features)\n",
    "test = pd.read_csv(test_path).pipe(prep_features)"
   ]
  },
  {
   "cell_type": "code",
   "execution_count": null,
   "metadata": {},
   "outputs": [],
   "source": [
    "train.isnull().sum()"
   ]
  },
  {
   "cell_type": "code",
   "execution_count": null,
   "metadata": {},
   "outputs": [],
   "source": [
    "train.sample(10)"
   ]
  },
  {
   "cell_type": "code",
   "execution_count": null,
   "metadata": {},
   "outputs": [],
   "source": [
    "test.isnull().sum()"
   ]
  },
  {
   "cell_type": "code",
   "execution_count": null,
   "metadata": {},
   "outputs": [],
   "source": [
    "test.sample(10)"
   ]
  },
  {
   "cell_type": "code",
   "execution_count": null,
   "metadata": {},
   "outputs": [],
   "source": []
  },
  {
   "cell_type": "code",
   "execution_count": null,
   "metadata": {
    "collapsed": true
   },
   "outputs": [],
   "source": []
  }
 ],
 "metadata": {
  "kernelspec": {
   "display_name": "Python 3",
   "language": "python",
   "name": "python3"
  },
  "language_info": {
   "codemirror_mode": {
    "name": "ipython",
    "version": 3
   },
   "file_extension": ".py",
   "mimetype": "text/x-python",
   "name": "python",
   "nbconvert_exporter": "python",
   "pygments_lexer": "ipython3",
   "version": "3.6.1"
  }
 },
 "nbformat": 4,
 "nbformat_minor": 2
}
